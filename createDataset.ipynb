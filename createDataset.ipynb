{
 "cells": [
  {
   "cell_type": "code",
   "execution_count": 3,
   "metadata": {},
   "outputs": [],
   "source": [
    "import os\n",
    "import glob\n",
    "from PIL import Image\n",
    "import h5py\n",
    "import random\n",
    "import copy\n",
    "import numpy as np"
   ]
  },
  {
   "cell_type": "code",
   "execution_count": 4,
   "metadata": {
    "collapsed": true
   },
   "outputs": [],
   "source": [
    "out = {}\n",
    "out['train']=\"/home/insighturu/data/story_break_data/BBC_Planet_Earth_Dataset/train.h5\"\n",
    "out['val']= \"/home/insighturu/data/story_break_data/BBC_Planet_Earth_Dataset/val.h5\""
   ]
  },
  {
   "cell_type": "code",
   "execution_count": 26,
   "metadata": {
    "collapsed": true
   },
   "outputs": [],
   "source": [
    "## read videos\n",
    "videos = glob.glob('/home/insighturu/data/story_break_data/BBC_Planet_Earth_Dataset/videos/*.mp4') ## List\n",
    "frames = glob.glob('/home/insighturu/data/story_break_data/BBC_Planet_Earth_Dataset/frames/bbc_*') ## List"
   ]
  },
  {
   "cell_type": "code",
   "execution_count": 44,
   "metadata": {},
   "outputs": [],
   "source": [
    "## read all the image paths\n",
    "imgs = []\n",
    "for fr_path in frames:\n",
    "    imgs = imgs + glob.glob(fr_path+'/*.jpg') ## List"
   ]
  },
  {
   "cell_type": "code",
   "execution_count": 45,
   "metadata": {},
   "outputs": [
    {
     "data": {
      "text/plain": [
       "212741"
      ]
     },
     "execution_count": 45,
     "metadata": {},
     "output_type": "execute_result"
    }
   ],
   "source": [
    "len(imgs)"
   ]
  },
  {
   "cell_type": "code",
   "execution_count": null,
   "metadata": {
    "collapsed": true
   },
   "outputs": [],
   "source": [
    "## open HDF5 files for both train and val\n",
    "ftrain = h5py.File(out_train, \"w\")\n",
    "trainset = ftrain.create_dataset(\"/images\", (ntrain,c,img_size,img_size), dtype='f')\n",
    "\n",
    "fval = h5py.File(out_val, \"w\")\n",
    "valset = fval.create_dataset(\"/images\", (nval,c,img_size,img_size), dtype='f')"
   ]
  },
  {
   "cell_type": "code",
   "execution_count": 14,
   "metadata": {
    "collapsed": true
   },
   "outputs": [],
   "source": [
    "train_imgs = []\n",
    "val_imgs = []"
   ]
  },
  {
   "cell_type": "code",
   "execution_count": null,
   "metadata": {
    "collapsed": true
   },
   "outputs": [],
   "source": [
    "print(\"creating training data\")\n",
    "for i, im_path in enumerate(train_imgs):\n",
    "    ## resize\n",
    "    ## add it to dataset\n",
    "    im = Image.open(im_path)\n",
    "    r,g,b = im.split()\n",
    "    im = Image.merge(\"RGB\", (b.resize((img_size,img_size)),g.resize((img_size,img_size)),r.resize((img_size,img_size))))\n",
    "    out= np.asarray(im.getdata()).reshape(3,im.size[0], im.size[1])\n",
    "    trainset[i] = out\n",
    "\n",
    "    if i%200==0:\n",
    "        print \"%0.1f percent completed of %d\"%(100*i/ntrain, ntrain)\n",
    "\n"
   ]
  },
  {
   "cell_type": "code",
   "execution_count": null,
   "metadata": {
    "collapsed": true
   },
   "outputs": [],
   "source": [
    "print(\"creating validation data\")\n",
    "for i, im_path in enumerate(val_imgs):\n",
    "    ## resize\n",
    "    ## add it to dataset\n",
    "    im = Image.open(im_path)\n",
    "    r,g,b = im.split()\n",
    "    im = Image.merge(\"RGB\", (b.resize((img_size,img_size)),g.resize((img_size,img_size)),r.resize((img_size,img_size))))\n",
    "    out= np.asarray(im.getdata()).reshape(3,im.size[0], im.size[1])\n",
    "    valset[i] = out\n",
    "\n",
    "    if i%200==0:\n",
    "        print \"%0.1f percent completed of %d\"%(100*i/nval, nval)\n"
   ]
  },
  {
   "cell_type": "code",
   "execution_count": null,
   "metadata": {
    "collapsed": true
   },
   "outputs": [],
   "source": [
    "## close the files\n",
    "ftrain.close()\n",
    "fval.close()"
   ]
  }
 ],
 "metadata": {
  "kernelspec": {
   "display_name": "Python 2",
   "language": "python",
   "name": "python2"
  },
  "language_info": {
   "codemirror_mode": {
    "name": "ipython",
    "version": 2
   },
   "file_extension": ".py",
   "mimetype": "text/x-python",
   "name": "python",
   "nbconvert_exporter": "python",
   "pygments_lexer": "ipython2",
   "version": "2.7.12"
  }
 },
 "nbformat": 4,
 "nbformat_minor": 2
}
